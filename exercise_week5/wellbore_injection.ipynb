{
 "cells": [
  {
   "cell_type": "code",
   "execution_count": 1,
   "metadata": {},
   "outputs": [],
   "source": [
    "# importing the necessary python modules\n",
    "# numpy and matplotlib are popular packages for scientific computing and plotting\n",
    "import numpy as np\n",
    "import matplotlib.pyplot as plt\n",
    "import pygmsh\n",
    "\n",
    "# interactive python (iPython) magic to instruct jupyter how to show the plots with respect to the code cells\n",
    "%matplotlib inline\n",
    "\n",
    "# scipy is an extension for numpy, used extensively in scientific computing\n",
    "import scipy as sp\n",
    "\n",
    "# The following lines are though to import the source functions\n",
    "import sys\n",
    "sys.path.append('../src')\n",
    "\n",
    "# And we import the necessary tools from our source folder.\n",
    "import MesherWrapper\n",
    "import MatrixAssembly\n",
    "import PoroElasticProperties as prop"
   ]
  },
  {
   "attachments": {},
   "cell_type": "markdown",
   "metadata": {},
   "source": [
    "### Fluid injection in a porous media\n",
    "\n",
    "We will model the injection of a fluid with a constant rate $Q$ in a wellbore of radius $r_w$ into a porous reservoir of radius $R$.\n",
    "\n",
    "To do so, we will:\n",
    "\n",
    "- Create the mesh using ``pygmsh``\n",
    "  - We will need to specify where we locate *holes* in our mesh\n",
    "- Impose the boundary conditions\n",
    "  - There will be a constant flux at the wellbore and no flow at the reservoir boundary\n",
    "- Compute the temporal evolution of the pressure in the domain\n",
    "  - The $\\theta$ method will be needed here\n",
    "- Compare the numerical solution to the analytical ones\n",
    "  - Two different analytical solutions will be employed, making use of different assumptions "
   ]
  },
  {
   "cell_type": "code",
   "execution_count": null,
   "metadata": {},
   "outputs": [],
   "source": [
    "# We will start by defining the mesh\n",
    "import pygmsh\n",
    "\n",
    "# different radius for the wellbore r and the domain R\n",
    "r = 1 \n",
    "R = 30 * r\n",
    "\n",
    "with pygmsh.geo.Geometry() as geom:\n",
    "\n",
    "    # we need the outer and inner circles to be defined as curved loops rather than surfaces\n",
    "    # the make_surface=False keyword is needed\n",
    "    inner_nodes = geom.add_circle([0, 0], r, mesh_size=0.5, make_surface=False)\n",
    "    \n",
    "    # complete the code below\n",
    "    \n",
    "    # outer_nodes = \n",
    "\n",
    "    # we can pass a list of holes to the add_plane_surface function\n",
    "    surface = geom.add_plane_surface(outer_nodes.curve_loop, holes=[inner_nodes])\n",
    "    out = geom.generate_mesh()\n",
    "\n",
    "mesh = MesherWrapper.Mesh(out)\n",
    "\n",
    "fig, ax= mesh.plot()\n",
    "\n",
    "# label the axes and the color code\n",
    "ax.set_xlabel('x (m)')\n",
    "ax.set_ylabel('y (m)')\n",
    "print(f'Mesh has {mesh.number_nodes} nodes')\n"
   ]
  },
  {
   "attachments": {},
   "cell_type": "markdown",
   "metadata": {},
   "source": [
    "### Boundary conditions\n",
    "\n",
    "We first start by selecting the nodes located at the wellbore radius $r_w$ and the domain radius $R$. We will use boolean logic as before, but we need to define a small threshold because of the numerical precision."
   ]
  },
  {
   "cell_type": "code",
   "execution_count": null,
   "metadata": {},
   "outputs": [],
   "source": [
    "# we need to select the nodes for the two different boundaries to set the proper boundary conditions\n",
    "eps = 1e-3 # threshold value\n",
    "\n",
    "# complete the code below\n",
    "\n",
    "# borehole_nodes = \n",
    "# outer_nodes = \n",
    "\n",
    "fig, axs = plt.subplots(1, 2, figsize=(8, 4))\n",
    "for i in range(2):\n",
    "    mesh.plot(ax=axs[i])\n",
    "\n",
    "    axs[i].scatter(*mesh.nodes[borehole_nodes].T, s=20, zorder=10, ec='k')\n",
    "    axs[i].scatter(*mesh.nodes[outer_nodes].T, s=20, zorder=10, ec='k')\n",
    "\n",
    "axs[1].set_xlim(-1.5 * r, 1.5 * r)\n",
    "axs[1].set_ylim(-1.5 * r, 1.5 * r)\n"
   ]
  },
  {
   "attachments": {},
   "cell_type": "markdown",
   "metadata": {},
   "source": [
    "Now that we've selected the nodes at the proper boundaries, we can compute the external flux vector. For this, we will integrate the flux $q_e$ at every wellbore segment. Knowing the total flux $Q$, what should be the flux per single element?"
   ]
  },
  {
   "cell_type": "code",
   "execution_count": null,
   "metadata": {},
   "outputs": [],
   "source": [
    "# now we want to compute the external flux vector\n",
    "Q_total = 1\n",
    "circumference = 2*np.pi*r\n",
    "\n",
    "# below we compute flux per unit length of wellbore circumference\n",
    "# complete the code below\n",
    "# q = \n",
    "\n",
    "# we compute the length of a single finite element facet at the wellbore\n",
    "# complete the code below\n",
    "# segment_length = \n",
    "\n",
    "# we create a vector of external flux and fill it in with the values fluxes integrated at each segment\n",
    "# Note: external flux is prescribed per node. Each node will get flux from two halves of the segments it belongs to\n",
    "f = np.zeros(mesh.number_nodes)\n",
    "# complete the code below:\n",
    "# f[borehole_nodes] = \n"
   ]
  },
  {
   "cell_type": "code",
   "execution_count": null,
   "metadata": {},
   "outputs": [],
   "source": [
    "# we proceed to assembly of the conductivity and mass matrices. As you've done this several times, we expect that you know how to do it ;)\n",
    "perm = [1] # uniform permeability coefficient\n",
    "C = MatrixAssembly.assemble_conductivity_matrix(mesh, perm)\n",
    "S = [1] # specific storage\n",
    "M = MatrixAssembly.assemble_mass_matrix(mesh, S)"
   ]
  },
  {
   "attachments": {},
   "cell_type": "markdown",
   "metadata": {},
   "source": [
    "### Temporal evolution of the pressure\n",
    "\n",
    "We will use the $\\theta$ method to solve the time-stepping problem. Check out the course notes and the previous exercise."
   ]
  },
  {
   "cell_type": "code",
   "execution_count": null,
   "metadata": {},
   "outputs": [],
   "source": [
    "# we can solve the system of equations at every time step\n",
    "theta = 0.8 # parameter in the time-integration scheme, varies in range [0, 1]\n",
    "\n",
    "t_final = 500 # final time up to which we run the simulation\n",
    "dt = 2  # time step\n",
    "t = np.arange(0, t_final, dt)\n",
    "pressure = np.zeros((len(t), mesh.number_nodes)) # initial pressure\n",
    "\n",
    "D =  M + theta * dt * C # matrix combining mass and perm matrices\n",
    "DInv = sp.sparse.linalg.splu(D) # Prparing its inverse for efficient solving\n",
    "\n",
    "for i in range(len(t) - 1):\n",
    "    print(f'\\rStep {i + 1} out of {len(t)}', end='')\n",
    "    # compute the contribution from the previous time step into the right-hand side (rhs)\n",
    "    # complete the code below:\n",
    "    # rhs = ...\n",
    "\n",
    "    # solve for the pressure increment\n",
    "    # comlete the code below:\n",
    "    # dp = ...\n",
    "\n",
    "    # update pressure in the current time step\n",
    "    # complete the code below:\n",
    "    # pressure[i + 1] =  \n",
    "\n",
    "# plotting solution at the final time\n",
    "fig, ax, cb = mesh.plot(pressure[-1])\n",
    "ax.set_xlabel('x (m)')\n",
    "ax.set_ylabel('y (m)')\n",
    "cb.ax.set_title('Pressure (Pa)')"
   ]
  },
  {
   "attachments": {},
   "cell_type": "markdown",
   "metadata": {},
   "source": [
    "### Analyzing the results\n",
    "Now that we have the temporal results, we want to analyze the evolution of the pressure at several points of the domain. From the radial symmetry of the problem, we can look at the pressure for a few points along a radial line."
   ]
  },
  {
   "cell_type": "code",
   "execution_count": null,
   "metadata": {},
   "outputs": [],
   "source": [
    "# we want to look at the temporal evoluotion of the pressure for a few given points\n",
    "radii = [r, (r + R)/2, R]\n",
    "\n",
    "# since the mesh is not exactly defined at those intervals, we want to take only the closest points\n",
    "node_indices = np.zeros(len(radii), dtype=int)\n",
    "for i, radius in enumerate(radii):\n",
    "    distance_from_radius = np.abs(np.linalg.norm(mesh.nodes, axis=1) - radius)\n",
    "    # complete the code below\n",
    "    # node_indices[i] = ...\n",
    "\n",
    "# we can see which nodes were identified\n",
    "points = mesh.nodes[node_indices]\n",
    "mesh.plot()\n",
    "plt.scatter(*points.T, zorder=10, ec='k')\n",
    "plt.title('selected points for analysis', loc='left')\n",
    "radii_actual = np.linalg.norm(points, axis=1)\n",
    "print(f'Actual distances are {radii_actual}')"
   ]
  },
  {
   "attachments": {},
   "cell_type": "markdown",
   "metadata": {},
   "source": [
    "### Comparison with analytical solutions\n",
    "\n",
    "We will compare the numerical results with two analytical solutions:\n",
    "\n",
    "- Line source in an infinite reservoir:\n",
    "\n",
    "this one approximates the wellbore as a line source and that the domain is infinite, also known as the *Theis solution* in hydrogeology. When the fluid front reaches the domain boundary, the solution is no longer valid due to the zero flux condition. We can consider this solution as an *early-time* approximation. The solution is\n",
    "\n",
    "$$ p(r, t) = \\frac{Q}{4\\pi k}\\mathrm{Ei}\\left(\\frac{r^2}{4ct}\\right),$$\n",
    "\n",
    "where $Q$ is the flux, $k$ is the permeability coefficient, $c=k/S$ where $S$ is the storage coefficient and $\\mathrm{Ei}(x)$ is the exponential integral function.\n",
    "\n",
    "- Cylindrical source in a finite reservoir:\n",
    "\n",
    "this solution is more realistic and consider a finite size for both the wellbore and the reservoir. In this exercise we will use only the pseudo steady-state part of this analytical solution, then we will call this solution as *pseudo steady-state* solution. \n",
    "\n",
    "$$ p(r, t) = \\frac{Q}{4\\pi k}\\left[\\frac{2}{R^2_D - 1}\\left(\\frac{r^2_D}{4} + t_D\\right) - \\frac{R^2_D \\ln(r_D)}{R^2_D - 1} - \\frac{3R^4_D - 4R^4_D \\ln(r_D)-2R^2_D - 1}{4(R_D^2 - 1)^2} \\right],$$\n",
    "\n",
    "where $R_D=R/r_w$, $r_D = r/r_w$ and $t_D = t/(cr^2_w)$."
   ]
  },
  {
   "cell_type": "code",
   "execution_count": null,
   "metadata": {},
   "outputs": [],
   "source": [
    "from scipy.special import exp1\n",
    "\n",
    "def line_source(radius, t, Q, k=1, S=1):\n",
    "    c = k/S\n",
    "    r2 = radius * radius\n",
    "    return Q/(4*np.pi*k) * exp1(r2 / (4 * c * t))\n",
    "    \n",
    "def cylindrical_source(radius, wellbore_radius, reservoir_radius, t, Q, k=1, S=1):\n",
    "    Rd = reservoir_radius/wellbore_radius\n",
    "    rd = radius/wellbore_radius\n",
    "    c = k/S\n",
    "    td = t / (c * wellbore_radius * wellbore_radius)\n",
    "\n",
    "    A = 2 / ((Rd ** 2) - 1) * ((rd ** 2) / 4 + td)\n",
    "    B = (Rd ** 2) * np.log(rd) / ((Rd ** 2) - 1)\n",
    "    C_up = (3 * Rd ** 4) - 4 * np.log(Rd) * (Rd ** 4) - 2 * (Rd ** 2) - 1\n",
    "    C_down = 4 * ((Rd ** 2) - 1)**2\n",
    "\n",
    "    return Q/(2 * np.pi * k) * (A - B - C_up / C_down)\n"
   ]
  },
  {
   "cell_type": "code",
   "execution_count": null,
   "metadata": {},
   "outputs": [],
   "source": [
    "# comparing the numerical and analytical solutions\n",
    "labels = [f'{radius/r:.0f}$r$' for radius in radii_actual]\n",
    "cmap = plt.get_cmap('viridis')\n",
    "colors = [cmap(i/len(labels)) for i in range(len(labels))]\n",
    "\n",
    "# our pressure array has a shape of n_timesteps x n_nodes\n",
    "for i, p in enumerate(pressure[:, node_indices].T):\n",
    "    plt.plot(t, p, label=labels[i], color=colors[i])\n",
    "    plt.plot(t, line_source(radii_actual[i], t, Q_total), c=colors[i], ls='dashed')\n",
    "    plt.plot(t, cylindrical_source(radii_actual[i], r, R, t, Q_total), c=colors[i], ls='dotted')\n",
    "\n",
    "plt.legend(ncol=3, loc='upper left', frameon=False)\n",
    "plt.xlabel('Time (s)')\n",
    "plt.ylabel('Pressure (Pa)')\n",
    "plt.ylim(0, None)\n",
    "plt.grid()"
   ]
  },
  {
   "cell_type": "code",
   "execution_count": null,
   "metadata": {},
   "outputs": [],
   "source": [
    "# as a bonus you get a CG animation of pressure diffusion from the wellbore. Enjoy!\n",
    "%matplotlib qt\n",
    "\n",
    "from matplotlib.animation import FuncAnimation\n",
    "\n",
    "fig = plt.figure()\n",
    "ax = fig.add_subplot()\n",
    "im = ax.tripcolor(*mesh.nodes.T, mesh.connectivity[:, :3], pressure[0], shading='gouraud', vmin=pressure.min(), vmax=pressure.max())\n",
    "plt.colorbar(im)\n",
    "mesh.plot(ax=ax, c='gray')\n",
    "ax.set_aspect(1)\n",
    "\n",
    "time = ax.set_title('t=0')\n",
    "\n",
    "def update(i):\n",
    "    time.set_text(f't={t[i]:.2f}')\n",
    "    im.set_array(pressure[i])\n",
    "    return im, time\n",
    "\n",
    "ani = FuncAnimation(fig, update, frames=np.arange(0, len(t), 10), interval=100)"
   ]
  }
 ],
 "metadata": {
  "kernelspec": {
   "display_name": "base",
   "language": "python",
   "name": "python3"
  },
  "language_info": {
   "codemirror_mode": {
    "name": "ipython",
    "version": 3
   },
   "file_extension": ".py",
   "mimetype": "text/x-python",
   "name": "python",
   "nbconvert_exporter": "python",
   "pygments_lexer": "ipython3",
   "version": "3.9.18"
  },
  "orig_nbformat": 4
 },
 "nbformat": 4,
 "nbformat_minor": 2
}
