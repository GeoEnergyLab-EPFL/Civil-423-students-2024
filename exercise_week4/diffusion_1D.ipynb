{
 "cells": [
  {
   "cell_type": "markdown",
   "metadata": {},
   "source": [
    "### Exercice 4. Transient Flow in 1D\n",
    "\n",
    "The goal of this exercise is to code and understand a finite difference / finite volume method, solving the problem of one-dimensional terzaghi flow."
   ]
  },
  {
   "cell_type": "code",
   "execution_count": 2,
   "metadata": {},
   "outputs": [],
   "source": [
    "# importing the necessary python modules\n",
    "# numpy and matplotlib are popular packages for scientific computing and plotting\n",
    "import numpy as np\n",
    "import matplotlib.pyplot as plt\n",
    "from matplotlib.animation import FuncAnimation\n",
    "\n",
    "# interactive python (iPython) magic to instruct jupyter how to show the plots with respect to the code cells\n",
    "%matplotlib inline\n",
    "\n",
    "# scipy is an extension for numpy, used extensively in scientific computing\n",
    "import scipy as sp"
   ]
  },
  {
   "attachments": {},
   "cell_type": "markdown",
   "metadata": {},
   "source": [
    "## One dimensional diffusion\n",
    "\n",
    "We can imagine a segment of length $2L$ under uniform pore pressure $p_0$. At $t=t_0$, the segment is drained from both ends. Assuming symmetry at $x=L$, we can write the problem for $x \\isin [0, L]$ with this one dimensional differential equation:\n",
    "\n",
    "$$ \\frac{\\partial p}{\\partial t} - c\\frac{\\partial^2 p}{\\partial x^2}=0, $$\n",
    "\n",
    "also using those boundary conditions:\n",
    "$$p(x=0, t>0) = 0,$$\n",
    "$$\\frac{\\partial p}{\\partial x}(x = L, t) = 0$$\n",
    "and\n",
    "$$p(x, t=0) = p_0.$$\n",
    "\n",
    "\n",
    "We will start by defining a very simple one dimensional mesh, which we will use to compute finite differences."
   ]
  },
  {
   "cell_type": "code",
   "execution_count": null,
   "metadata": {},
   "outputs": [],
   "source": [
    "# Mesh definition\n",
    "# Complete below\n",
    "# L  =      # length of the domain\n",
    "# p0 =      # initial pressure\n",
    "# c  =      # consolidation coefficient\n",
    "n  = 100    # number of elements\n",
    "\n",
    "x = np.linspace(0, L, n + 1) # this function of numpy gives you an evenly spaced array\n",
    "                             # between 0 and L with n + 1 elements (including endpoints)\n",
    "\n",
    "# Complete below\n",
    "# dx =       # dx is the spacing between two nodes, i.e., the cell size\n",
    "\n",
    "\n",
    "print(f'The array of the node coordinates is: {x=}')\n",
    "print(f'with a cell size of {dx=}')"
   ]
  },
  {
   "attachments": {},
   "cell_type": "markdown",
   "metadata": {},
   "source": [
    "### Finite difference scheme\n",
    "\n",
    "We can compute the solution to this differential equation as a system of equations where we are discretizing the pressure gradient into a ratio between the pressure difference and the distance between the measurement points.\n",
    "\n",
    "We do so by building the matrix $\\mathbb{L}$. Take care at the boundaries where you have to adapt the matrix to validate the boundary conditions."
   ]
  },
  {
   "cell_type": "code",
   "execution_count": null,
   "metadata": {},
   "outputs": [],
   "source": [
    "# We first initiate a sparse matrix.\n",
    "Lmat = sp.sparse.csc_array((n, n))\n",
    "\n",
    "# We then iterate over all the nodes and assign the corresponding entries.\n",
    "# Complete within the loop\n",
    "for i in range(n):\n",
    "    # Lmat[ , ] =       # Value at the diagonal\n",
    "\n",
    "    # Off diagonal values depending on the boundary conditions\n",
    "    # Lmat[ , ] = \n",
    "    # Lmat[ , ] = \n",
    "\n",
    "# Applying the spatial difference\n",
    "# Complete below\n",
    "# Lmat = \n",
    "\n",
    "# We can now inspect the entries in the matrix\n",
    "plt.imshow(Lmat.todense())"
   ]
  },
  {
   "cell_type": "markdown",
   "metadata": {},
   "source": [
    "After the creation of the $\\mathbb{L}$ matrix. we are ready to solve the system.\n",
    "\n",
    "In your parameter choice recall that $\\theta = 0$ gives you a forward Euler (explicit) scheme wherease a $\\theta$ of $1$ is equivalent to a backward Euler (implicit) scheme."
   ]
  },
  {
   "cell_type": "code",
   "execution_count": null,
   "metadata": {},
   "outputs": [],
   "source": [
    "# We define the remaining parameters of the problem\n",
    "\n",
    "theta = 0.8 \n",
    "# complete below\n",
    "# dt =  # Recall to take care of the CFL condition\n",
    "\n",
    "# As we are using a fixed time step dt, we can now pre-define our evaluation times\n",
    "t = np.arange(0, 1 + dt, dt)\n",
    "# Lets print the characteristics of our time integration scheme.\n",
    "print(f'We perform a total of {len(t)=} timesteps.')\n",
    "print(f'with a timestep of {dt=}')\n",
    "\n",
    "# We now pre-define the solution vector, where we have one line for every timestep.\n",
    "heads = np.zeros((len(t), n))\n",
    "\n",
    "# Complete this array with the initial solution\n",
    "# heads[0] = \n",
    "\n",
    "# And also create the identity matrix.\n",
    "I = sp.sparse.eye(n)\n",
    "\n",
    "# We observe that the left hand side of our equation is independent on the time and\n",
    "# current solution, we thus calculate it beforehand.\n",
    "\n",
    "# complete below\n",
    "\n",
    "# left = \n",
    "\n",
    "leftInv = sp.sparse.linalg.splu(left)\n",
    "\n",
    "# Finally we iterate over the timesteps and calculate the change in pressure to\n",
    "# obtain the new head\n",
    "for i in range(len(t) - 1):\n",
    "    # complete the equation\n",
    "    # dp = leftInv.solve(...)\n",
    "    # heads[i + 1] = "
   ]
  },
  {
   "attachments": {},
   "cell_type": "markdown",
   "metadata": {},
   "source": [
    "### Comparing with an analytical solution\n",
    "\n",
    "The analytical solution for the pressure $p(x, t)$ is given by the following equation:\n",
    "\n",
    "$$ p(x, t) = p_0 \\sum_{k=1, 3, ..}^{\\infty}\\frac{4}{k\\pi}\\sin\\left(\\frac{k\\pi x^*}{2}\\right)\\exp(-k^2 \\pi^2 t^*),$$\n",
    "\n",
    "where $x^*=\\frac{x}{L}$ and $t^*=\\frac{ct}{4L^2}$. We obviously can't compute the terms for values of $k$ all the way to infinity; we must choose a large enough number. As is usually done in python, we want to avoid using for loops and will use vectorization with ``numpy``'s ``meshgrid`` function.\n",
    "\n",
    "The code below defines a function for you to obtain the analytical solution at a given position $x$, time $t$, and problems of the parameter $L, c,$ and $p_o$.\n"
   ]
  },
  {
   "cell_type": "code",
   "execution_count": null,
   "metadata": {},
   "outputs": [],
   "source": [
    "def analytical_solution(x, t, L, c, p0=1, n=1e3):\n",
    "    xstar = x/L\n",
    "    tstar = c * t / (4 * L * L)\n",
    "    k = np.arange(int(n))[1::2]\n",
    "\n",
    "    # returns a tuple of shape (nk, nx, nt)\n",
    "    xx, kk, tt = np.meshgrid(xstar, k, tstar)\n",
    "\n",
    "    sinus = np.sin(0.5 * kk * np.pi * xx)\n",
    "    exponent = np.exp(-kk * kk * np.pi * np.pi * tt)\n",
    "    summed = np.sum(4 / (kk * np.pi) * sinus * exponent, axis=0)\n",
    "\n",
    "    return p0 * summed\n",
    "\n",
    "analytical_solution(x, 0, L, 1).shape"
   ]
  },
  {
   "cell_type": "markdown",
   "metadata": {},
   "source": [
    "In the following, we compare the analytical solution for our problem parameters to the numerical solution obtained."
   ]
  },
  {
   "cell_type": "code",
   "execution_count": null,
   "metadata": {},
   "outputs": [],
   "source": [
    "nlines = 5 # Number of time steps we want to plot\n",
    "\n",
    "# We choose to plot the solution at the beginning end and on three intermediate steps.\n",
    "for i, ti in enumerate(np.linspace(1, len(t) - 1, nlines).astype(int)):\n",
    "\n",
    "    # we plot the analytical solution first as a line    \n",
    "    l, = plt.plot(x[:-1] + dx, analytical_solution(x[:-1] + dx, t[ti], L, c), label=f'{t[ti]:.2f}')\n",
    "\n",
    "    # we then plot the numerical solution on top as only points\n",
    "    plt.plot(x[:-1] + dx, heads[ti], c=l.get_color(), ls='none', marker='.', markevery=0.1, ms=10, mec='k')\n",
    "\n",
    "# Visualization of the solution\n",
    "plt.legend(title='time (s)', loc='center left', bbox_to_anchor=(1, 0.5), frameon=False)\n",
    "plt.xlim(0, 1)\n",
    "plt.xlabel('x (m)')\n",
    "plt.ylabel('pressure (m)')"
   ]
  },
  {
   "cell_type": "markdown",
   "metadata": {},
   "source": [
    "It is further possible to plot the solution in a time space plot where the color indicates the heads/pressure. "
   ]
  },
  {
   "cell_type": "code",
   "execution_count": null,
   "metadata": {},
   "outputs": [],
   "source": [
    "plt.imshow(heads, extent=[x[0], x[-1], t[0], t[-1]], origin='lower', cmap='Blues',)\n",
    "plt.xlabel('x (m)')\n",
    "plt.ylabel('t (s)')\n",
    "cb = plt.colorbar()\n",
    "plt.title('pressure (m)', loc='left')"
   ]
  },
  {
   "cell_type": "markdown",
   "metadata": {},
   "source": [
    "Now let us perform an error estimate. For this we first need to obtain the analytical heads at all positions where we have the numerical solution. We then calculate the error in percent."
   ]
  },
  {
   "cell_type": "code",
   "execution_count": null,
   "metadata": {},
   "outputs": [],
   "source": [
    "# We get the analytical heads\n",
    "# complete below\n",
    "# anal_heads = analytical_solution(     ).T\n",
    "\n",
    "# and calculate the error in percent\n",
    "# complete below\n",
    "# error = "
   ]
  },
  {
   "cell_type": "code",
   "execution_count": null,
   "metadata": {},
   "outputs": [],
   "source": [
    "# The following line is only to obtain the limits of the colorbar.\n",
    "vmax = np.quantile(np.abs(error), 0.99)\n",
    "\n",
    "# We visualize the error in the same way as we had visualized the solution on the domain.\n",
    "plt.imshow(error, extent=[x[0], x[-1], t[0], t[-1]], origin='lower', cmap='coolwarm', vmin=-vmax, vmax=vmax)\n",
    "plt.xlabel('x (m)')\n",
    "plt.ylabel('t (s)')\n",
    "cb = plt.colorbar()\n",
    "plt.title('relative error (%)', loc='left')"
   ]
  },
  {
   "cell_type": "markdown",
   "metadata": {},
   "source": [
    "Finally we can also animate the evolution of the pressure along the domain. Note that you might have to perform a `pip install` of the following libraries first:\n",
    "    - `PyQt5`\n",
    "    - `PyQt6`\n",
    "    - `PySide6`"
   ]
  },
  {
   "cell_type": "code",
   "execution_count": null,
   "metadata": {},
   "outputs": [],
   "source": [
    "pip install PyQt5 PyQt6 PySide6 "
   ]
  },
  {
   "cell_type": "code",
   "execution_count": null,
   "metadata": {},
   "outputs": [],
   "source": [
    "# interactive python (iPython) magic to instruct jupyter how to show the plots with respect to the code cells\n",
    "%matplotlib qt\n",
    "\n",
    "# We predefine i as our iterable\n",
    "i = 0\n",
    "\n",
    "# Instantiation of the axis and figure\n",
    "fig, ax = plt.subplots()\n",
    "\n",
    "# The axis and text\n",
    "l, = ax.plot(x[:-1] + dx, heads[i], c='k')\n",
    "text = ax.set_title(f't = {t[i]:.2f}', loc='left')\n",
    "ax.set_ylim(0, 1.05)\n",
    "ax.set_xlim(0, 1)\n",
    "ax.set_xlabel('x')\n",
    "ax.set_ylabel('h', rotation=0, va='bottom')\n",
    "\n",
    "# We need a function to update the plot\n",
    "def update(i):\n",
    "    # Change the y data\n",
    "    l.set_ydata(heads[i])\n",
    "    # Change the label to the new time.\n",
    "    text.set_text(f't = {t[i]:.2f}')\n",
    "\n",
    "    return l, text\n",
    "\n",
    "anim = FuncAnimation(fig, update, frames=np.arange(0, len(t), 1), interval=25)\n",
    "\n",
    "# interactive python (iPython) magic to instruct jupyter how to show the plots with respect to the code cells\n",
    "%matplotlib inline\n"
   ]
  }
 ],
 "metadata": {
  "kernelspec": {
   "display_name": "base",
   "language": "python",
   "name": "python3"
  },
  "language_info": {
   "codemirror_mode": {
    "name": "ipython",
    "version": 3
   },
   "file_extension": ".py",
   "mimetype": "text/x-python",
   "name": "python",
   "nbconvert_exporter": "python",
   "pygments_lexer": "ipython3",
   "version": "3.9.18"
  },
  "orig_nbformat": 4
 },
 "nbformat": 4,
 "nbformat_minor": 2
}
