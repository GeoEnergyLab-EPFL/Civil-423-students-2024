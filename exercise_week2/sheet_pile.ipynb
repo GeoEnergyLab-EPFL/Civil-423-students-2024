{
    "cells": [
        {
            "cell_type": "markdown",
            "metadata": {},
            "source": [
                "# Exercice 2  - Computational Geomechanics 2024-2025\n",
                "\n",
                "The goal of this exercise is to solve the problem of porous media flow around a sheet pile wall. in other words, we want to solve Darcy's equation ($q_i = - k h_{,i}$) with imposed boundary conditions. \n",
                "\n",
                "In a first step we will assume a soil with homogeneous permeability. We will later relax this assumption and interpret the effects of a variable permeability."
            ]
        },
        {
            "cell_type": "markdown",
            "metadata": {},
            "source": [
                "#### External libraries\n",
                "\n",
                "We will use `python` and it's many computing libraries to do finite element computations. Here are some of the libraries we will use:\n",
                "\n",
                "- `numpy` stands for *numerical python* and is the main library used, along with `scipy`, for scientific computing. You can access the documentation [here](https://numpy.org/doc/stable/).\n",
                "- `matplotlib` is a library used for plotting purposes. The documentation is accessible [here](https://matplotlib.org/stable/index.html).\n",
                "- `pygmsh` is a python wrapper for the mesh generator `gmsh`. We will generate meshes with this library and manipulate it's output with our own code. You can access `pygmsh` documentation at the following [link](https://pygmsh.readthedocs.io/en/latest/index.html)."
            ]
        },
        {
            "cell_type": "code",
            "execution_count": null,
            "metadata": {},
            "outputs": [],
            "source": [
                "# importing the necessary python modules\n",
                "# numpy and matplotlib are popular packages for scientific computing and plotting\n",
                "import numpy as np\n",
                "import matplotlib.pyplot as plt\n",
                "import pygmsh\n",
                "\n",
                "# interactive python (iPython) magic to instruct jupyter how to show the plots with respect to the code cells\n",
                "%matplotlib inline\n",
                "\n",
                "# various plotting parameters\n",
                "plt.rcParams['text.usetex'] = False\n",
                "plt.rcParams['axes.labelsize'] = 12\n",
                "\n",
                "# scipy is an extension for numpy, used extensively in scientific computing\n",
                "import scipy as sp"
            ]
        },
        {
            "cell_type": "markdown",
            "metadata": {},
            "source": [
                "#### Internal functions\n",
                "\n",
                "We will use some internal functions that we are coding up during this course. For the solution of this problem we require the following moduls and sources\n",
                "\n",
                "- `Mesh` stands for *mesh object* and contains all relevant information on the mesh we will create. See Exercice 1 for more detailed explanations. It has some utilities to perform on the Mesh which are stored in `MeshUtils`. \n",
                "- `MatrixAssembly` is our file where all the relevant functions can be found to assemble matrices\n",
                "- `PoroElasticProperties` refers to a library allowing us to transform poroelastic properties from one to another."
            ]
        },
        {
            "cell_type": "code",
            "execution_count": null,
            "metadata": {},
            "outputs": [],
            "source": [
                "import os\n",
                "\n",
                "print(os.getcwd())"
            ]
        },
        {
            "cell_type": "code",
            "execution_count": null,
            "metadata": {},
            "outputs": [],
            "source": [
                "# The following lines are though to import the source functions\n",
                "import sys\n",
                "#Adjust the path to the folder. Take the path and adjust from the output of print(os.getcwd())\n",
                "sys.path.append('../../src')\n",
                "\n",
                "# And we import the necessary tools from our source folder.\n",
                "from MesherWrapper import Mesh\n",
                "from MeshUtils import MeshUtils\n",
                "import MatrixAssembly\n",
                "import PoroElasticProperties as prop"
            ]
        },
        {
            "cell_type": "markdown",
            "metadata": {},
            "source": [
                "## 1. Generating the Mesh\n",
                "\n",
                "We first generate the mesh according to the dimensions given in section 1 of the exercises."
            ]
        },
        {
            "cell_type": "code",
            "execution_count": null,
            "metadata": {},
            "outputs": [],
            "source": [
                "# We define the different dimensions of the problem (complete below).\n",
                "# D = \n",
                "# H = \n",
                "# s = \n",
                "# b = \n",
                "# t = \n",
                "\n",
                "# As to get a mesh that is conform, we need to introduce a very small width of our wall\n",
                "twall = 1e-6\n",
                "\n",
                "# we can now define the vertices using the dimensions. We start from the left bottom and place it at [0, 0] and then go clockwise\n",
                "# complete below\n",
                "# vertices = np.array([[0, 0], \n",
                "#                       ...])\n",
                "\n",
                "# We simply inspect how the boundaries look like\n",
                "plt.figure()\n",
                "plt.plot(vertices[:, 0], vertices[:, 1])\n",
                "plt.gca().set_aspect(1)\n",
                "# Note that the bottom is not closed when plotting in this manner. This is because for the meshing we will not repeat a vertex.\n",
                "\n",
                "# To see the separation caused by the wall we need to zoom in closer\n",
                "plt.figure()\n",
                "plt.plot(vertices[:, 0], vertices[:, 1])\n",
                "plt.xlim(s - 2*twall, s + 2*twall)"
            ]
        },
        {
            "cell_type": "markdown",
            "metadata": {},
            "source": [
                "#### Resolution\n",
                "\n",
                "We now generate the mesh with a vertice with the resolution imposed. You are asked to compare to the graphical exact solution provided in figure 2 of the PDF. To get closer to this solution, you can notably adjust the resolution."
            ]
        },
        {
            "cell_type": "code",
            "execution_count": null,
            "metadata": {},
            "outputs": [],
            "source": [
                "# we create a mesh with triangle finite elements with the pygmsh library.\n",
                "\n",
                "# we can have a per point cell resolution, telling pygmsh where we want finer elements\n",
                "# there are multiple ways to do this, but a simple one is to make a list as long as our points as seen in the end of the previous exercise (complete below).\n",
                "# resolutions = np.array()\n",
                "\n",
                "with pygmsh.geo.Geometry() as geom:\n",
                "    # we initiate an empty line list\n",
                "    lines = []\n",
                "\n",
                "    # we instantiate points p1 and p2 and make sure to store the first one in p0\n",
                "    p1 = p0 = geom.add_point(vertices[0], resolutions[0])\n",
                "\n",
                "    # at every iteration, we make a line going from p1 to p2\n",
                "    for i in range(len(vertices) - 1):\n",
                "        p2 = geom.add_point(vertices[i + 1], resolutions[i + 1])\n",
                "        line = geom.add_line(p1, p2)\n",
                "        lines.append(line)\n",
                "        p1 = p2  # we make sure that p1 becomes p2, the next point to be in lines\n",
                "\n",
                "    # we add the last line, closing the loop with p2 to p0\n",
                "    lines.append(geom.add_line(p2, p0))\n",
                "\n",
                "    # curve loop is a collection of lines where every endpoints are connected\n",
                "    loop = geom.add_curve_loop(lines)  \n",
                "\n",
                "    # the plane surface is the area that is going to be partitionned in finite elements\n",
                "    surf = geom.add_plane_surface(loop)\n",
                "\n",
                "    # final command to do the computations\n",
                "    out = geom.generate_mesh()\n",
                "\n",
                "# we pass it to our wrapper object 'Mesh' with which we'll be interacting through our computations\n",
                "mesh = Mesh(out)\n",
                "\n",
                "# we can use the mesh.plot() function to easily show it\n",
                "\n",
                "fig, ax = mesh.plot()\n",
                "ax.set_xlabel('x (m)')\n",
                "ax.set_ylabel('y (m)')"
            ]
        },
        {
            "cell_type": "markdown",
            "metadata": {},
            "source": [
                "## 2. Uniform permeability\n",
                "\n",
                "We consider first the case of a uniform permeability. such that our next step is to define the boundary conditions\n",
                "\n",
                "### Defining the boundary conditions\n",
                "\n",
                "To properly define the different boundary conditions of our problems, we need to have a map to the different nodes. In this problem, we will need to impose different boundary conditions at\n",
                "\n",
                "- the impermeable sheet pile wall,\n",
                "- the phreatic surface on the left side of the wall,\n",
                "- the phreatic surface at the right side of the wall and\n",
                "- the other boundaries (left, bottom and right edges).\n",
                "\n",
                "We can access those nodes with `mesh.nodes`, of size `(number of nodes, 2)` and using conditional indexing. "
            ]
        },
        {
            "cell_type": "code",
            "execution_count": null,
            "metadata": {},
            "outputs": [],
            "source": [
                "# We first search for the nodes which are on the sheet pile wall.\n",
                "# Note that the vertical line | is equivalent to an 'or' condition and the & sign to a 'and' condition\n",
                "sheet_pile = np.argwhere((mesh.nodes[:, 0] == (s - twall/2)) | (mesh.nodes[:, 0] == (s + twall/2)) & (mesh.nodes[:, 1] >= D - H - t))[:, 0]\n",
                "\n",
                "# Here we are looking for the boundaries on the left, right, and bottom with natural boundary conditions.\n",
                "# complete the code below\n",
                "# left = \n",
                "# right =\n",
                "# bottom =\n",
                "\n",
                "# Finally, we have to get ground surface and the surface inside the trench\n",
                "# complete the code below\n",
                "# ground_surface = \n",
                "# trench_surface = \n",
                "\n",
                "\n",
                "# The following is a way to visualize your different boundaries. Note that nodes on the edges belong to two boundaries and simply overwrite.\n",
                "# You should obtain the following color code. \n",
                "# - sheet pile wall --> light blue\n",
                "# - left --> orange\n",
                "# - right --> green\n",
                "# - bottom --> red\n",
                "# - ground surface --> purple\n",
                "# - trench surface --> brown\n",
                "mesh.plot()\n",
                "\n",
                "for condition in (sheet_pile, left, right, bottom, ground_surface, trench_surface):\n",
                "    plt.scatter(*mesh.nodes[condition].T)"
            ]
        },
        {
            "cell_type": "markdown",
            "metadata": {},
            "source": [
                "Once we have selected the points correctly, we can now assign the respective boundary conditions to them."
            ]
        },
        {
            "cell_type": "code",
            "execution_count": null,
            "metadata": {},
            "outputs": [],
            "source": [
                "# We first initiate a pressure vector. Which will be the solution to the problem everywhere in the system. For now lets fill it with zeros.\n",
                "pressure = np.zeros((mesh.number_nodes, 1))\n",
                "\n",
                "# Now we set the piezometric head (recall that Darcy's flow is in term of the head) at the ground surface and at the trench surface\n",
                "# complete the following\n",
                "# pressure[...] =               # at the ground surface \n",
                "# pressure[...] =               # at the trench surface \n",
                "\n",
                "# The nodes where the pressure is fixed by the boundary condition are our fixed nodes. We define them here by combining (hstack is horizontally stacking arrays)\n",
                "# the boundary of the ground_sourface and the trench_surface. \n",
                "fixed_nodes = np.hstack((ground_surface, trench_surface))\n",
                "\n",
                "# The remaining nodes are where we do not know the pressure (setdiff1d takes the difference between two arrays). We generate a vector of all numbers\n",
                "# of nodes we have (np.arange does this) and take the ones which are not in fixed_nodes.\n",
                "unknown_nodes = np.setdiff1d(np.arange(mesh.number_nodes), fixed_nodes)\n",
                "\n",
                "# We print their shapes and observe the difference. Note that their sume is the total number of nodes.\n",
                "print(f'The number of fixed nodes is {len(fixed_nodes)}')\n",
                "print(f'The number of unknown nodes is {len(unknown_nodes)}')\n",
                "print(f'The total number of nodes is {mesh.number_nodes}')"
            ]
        },
        {
            "cell_type": "markdown",
            "metadata": {},
            "source": [
                "#### Question\n",
                "Note that we did not do anything with the other boundaries. Can you explain why?\n",
                "\n",
                "#### Answer\n",
                "\n",
                "Natural boundary conditions impose a zero flow condition. This is the natural condition because it is natural in the system and does not require any treatment from our side. Hence, the boundaries left, right, and bottom need no treatment. Finally, an impermeable wall is nothing else than a natural boundary condition, which is why also this boundary needs no treatment."
            ]
        },
        {
            "cell_type": "markdown",
            "metadata": {},
            "source": [
                "### Assembly of the conductivity matrix\n",
                "\n",
                "In the next step we will use the loaded package `MatrixAssembly` to create the conductivity matrix. For now, we use a uniform permeability.\n",
                "\n",
                "To make the following cell work, you have to complete the code of the function `MatrixAssembly::assemble_conductivity_matrix(args)` in `MatrixAssembly.py`"
            ]
        },
        {
            "cell_type": "code",
            "execution_count": null,
            "metadata": {},
            "outputs": [],
            "source": [
                "# We define the permeability and use the function to assemble the matrix\n",
                "permeability = 1\n",
                "C = MatrixAssembly.assemble_conductivity_matrix(mesh, permeability)\n",
                "\n",
                "# We can now inspect the matrix to see where we have non-zero entries.\n",
                "plt.spy(C.todense())"
            ]
        },
        {
            "attachments": {},
            "cell_type": "markdown",
            "metadata": {},
            "source": [
                "### Solving the system of equations\n",
                "\n",
                "We only have natural boundary conditions of the Neumann type which need no treatment (e.g., our force vector has no non-zero entry). However, the non-zero dirichlet boundary conditions for pressure need to be transformed into a force vector (see course notes). "
            ]
        },
        {
            "cell_type": "code",
            "execution_count": null,
            "metadata": {},
            "outputs": [],
            "source": [
                "# We initialize the force vector\n",
                "f = np.zeros((mesh.number_nodes, 1))\n",
                "\n",
                "# In the next step we seperate the conductivity matrix into its parts. notably we are interested in the parts relating the fixed to the unknowon nodes (C_fixed)\n",
                "# and the part relating the unknown to the unknown nodes (C_unknown).\n",
                "# complete the code below\n",
                "# C_fixed\n",
                "# C_unknown\n",
                "\n",
                "\n",
                "# With this parts of the matrix at hand, we can now get the unknown components of the force vector given by the imposed non-zero Dirichlet conditions\n",
                "# complete the code below\n",
                "# f_fixed = \n",
                "\n",
                "# We then add the components of the fixed force vector to the general force vector\n",
                "f[unknown_nodes] += f_fixed\n",
                "\n",
                "# With the correct force vector we can now simply solve the system\n",
                "# complete the code below\n",
                "# pressure_unknown = \n",
                "\n",
                "# And finally glue the solution back together\n",
                "pressure[unknown_nodes] = pressure_unknown.reshape((len(unknown_nodes), 1))"
            ]
        },
        {
            "attachments": {},
            "cell_type": "markdown",
            "metadata": {},
            "source": [
                "### Plotting the results\n",
                "We can look at the distribution of the pressure across our imaginary sheet pile. We are also interested in the fluxes and it's magnitude. You can use the `project_flux` function programmed in the last exercice to get those."
            ]
        },
        {
            "cell_type": "code",
            "execution_count": null,
            "metadata": {},
            "outputs": [],
            "source": [
                "# Define the figure axes and background\n",
                "fig, ax, cb = mesh.plot(pressure[:, 0], shading='flat')\n",
                "\n",
                "# label the axes and the color code\n",
                "ax.set_xlabel('x (m)')\n",
                "ax.set_ylabel('y (m)')\n",
                "cb.ax.set_title('h (m)')\n",
                "\n",
                "# We now run the code of last week to get the fluxes\n",
                "qx, qy = MatrixAssembly.project_flux(mesh, permeability, pressure)\n",
                "\n",
                "# And add the flow as arrows\n",
                "ax.quiver(mesh.nodes[:, 0], mesh.nodes[:, 1], qx, qy)"
            ]
        },
        {
            "cell_type": "markdown",
            "metadata": {},
            "source": [
                "### Comparison to graphical exact solution\n",
                "\n",
                "As said in the introduction to the exercise. It is now possible to calculate the the exit gradient and compare it to the graphical solution."
            ]
        },
        {
            "cell_type": "code",
            "execution_count": null,
            "metadata": {},
            "outputs": [],
            "source": [
                "# We first find the exit node\n",
                "# complete the code below\n",
                "# exitnode = \n",
                "\n",
                "# Before we can get the vertical flux at this location\n",
                "# complete the code below\n",
                "# exit_gradient = \n",
                "\n",
                "# And we print the solution\n",
                "print(f'The numerical exit gradient is {exit_gradient[0]}')"
            ]
        },
        {
            "cell_type": "markdown",
            "metadata": {},
            "source": [
                "We now calculate the difference to the estimated gradient. For the configuration studied herein (case 1) we have:\n",
                "- $\\delta = H / t = 0.5$ $\\rightarrow$ Curve I\n",
                "- $I_E t / H \\approx 0.2425$ $\\rightarrow$ $I_E \\approx 0.12145$"
            ]
        },
        {
            "cell_type": "code",
            "execution_count": null,
            "metadata": {},
            "outputs": [],
            "source": [
                "I_E_analytical = 0.12145\n",
                "\n",
                "# such that the relative error is\n",
                "rel_err = abs(1 - exit_gradient/I_E_analytical) * 100\n",
                "print(f'The relative error on the gradient is {rel_err[0]} %')\n"
            ]
        },
        {
            "cell_type": "markdown",
            "metadata": {},
            "source": [
                "### Different resolutions and second case\n",
                "\n",
                "We will let you now reuse the code above to perform different simulations with finer/coarser meshes and study the convergence of this and the two cases."
            ]
        },
        {
            "cell_type": "code",
            "execution_count": null,
            "metadata": {},
            "outputs": [],
            "source": []
        },
        {
            "cell_type": "markdown",
            "metadata": {},
            "source": [
                "## 3. Layers of different permeability\n",
                "\n",
                "You can re-use all ingredients from before apart from the ones which depend on the conductivity. Most likely, the actual soil will not consist of a single layer, but will have different conductivities.\n",
                "\n",
                "The implementation of such different materials is straightforward and is performed using the material ID (`Mesh.id`) assigned to every element in our mesh. The corresponding array is automatically created upon the creation of the mesh and assigns an ID of 0 to all elements (e.g., all elements are of the same type). Let us now add a second soil type from a height of $y = 0.3$ m on downwards.\n",
                "\n",
                "To do so, we assign a different material index (ID) to all elements whose barycenters lay in the lower layer."
            ]
        },
        {
            "cell_type": "code",
            "execution_count": null,
            "metadata": {},
            "outputs": [],
            "source": [
                "# We loop over all the elements and extract their barycenter. If it fulfils the condition we assign the material ID 1 to it.\n",
                "for e in range(mesh.number_els):\n",
                "    barycenter = MeshUtils.getBarycenter(mesh, e)\n",
                "    # complete the condition\n",
                "    # if  barycenter[1] <= ?:\n",
                "    #     mesh.id[e] = 1"
            ]
        },
        {
            "cell_type": "markdown",
            "metadata": {},
            "source": [
                "The only part of our calculation affected by the different conductivity is the conductivity matrix. We thus reassemble it using the two permeabilities."
            ]
        },
        {
            "cell_type": "code",
            "execution_count": null,
            "metadata": {},
            "outputs": [],
            "source": [
                "# elements with material ID 1, will get lower permeability value\n",
                "permeability = [1, 0.5] # The vector of the permeability must have as many entries as you have unique values of the ID.\n",
                "C = MatrixAssembly.assemble_conductivity_matrix(mesh, permeability)\n",
                "\n",
                "plt.spy(C.todense())"
            ]
        },
        {
            "cell_type": "markdown",
            "metadata": {},
            "source": [
                "And we can solve and visualize the system in the exact same way as before."
            ]
        },
        {
            "cell_type": "code",
            "execution_count": null,
            "metadata": {},
            "outputs": [],
            "source": [
                "# We initialize the force vector\n",
                "f = np.zeros((mesh.number_nodes, 1))\n",
                "\n",
                "# In the next step we seperate the conductivity matrix into its parts. notably we are interested in the parts relating the fixed to the unknowon nodes (C_fixed)\n",
                "# and the part relating the unknown to the unknown nodes (C_unknown).\n",
                "# complete the code below\n",
                "# C_fixed\n",
                "# C_unknown\n",
                "\n",
                "# With this parts of the matrix at hand, we can now get the unknown components of the force vector given by the imposed non-zero Dirichlet conditions\n",
                "# complete the code below\n",
                "# f_fixed = \n",
                "\n",
                "# We then add the components of the fixed force vector to the general force vector\n",
                "f[unknown_nodes] += f_fixed\n",
                "\n",
                "# With the correct force vector we can now simply solve the system\n",
                "#complete the code below\n",
                "# pressure_unknown = \n",
                "\n",
                "# And finally glue the solution back together\n",
                "pressure[unknown_nodes] = pressure_unknown.reshape((len(unknown_nodes), 1))\n",
                "\n",
                "# Define the figure axes and background\n",
                "fig, ax, cb = mesh.plot(pressure[:, 0], shading='flat')\n",
                "\n",
                "# label the axes and the color code\n",
                "ax.set_xlabel('x (m)')\n",
                "ax.set_ylabel('y (m)')\n",
                "cb.ax.set_title('h (m)')\n",
                "\n",
                "# We now run the code of last week to get the fluxes\n",
                "qx, qy = MatrixAssembly.project_flux(mesh, permeability, pressure)\n",
                "\n",
                "# And add the flow as arrows\n",
                "ax.quiver(mesh.nodes[:, 0], mesh.nodes[:, 1], qx, qy)"
            ]
        },
        {
            "cell_type": "markdown",
            "metadata": {},
            "source": [
                "You can now play around with different number and types of soils and see what happens to the hydraulic head and the flow."
            ]
        }
    ],
    "metadata": {
        "kernelspec": {
            "display_name": "base",
            "language": "python",
            "name": "python3"
        },
        "language_info": {
            "codemirror_mode": {
                "name": "ipython",
                "version": 3
            },
            "file_extension": ".py",
            "mimetype": "text/x-python",
            "name": "python",
            "nbconvert_exporter": "python",
            "pygments_lexer": "ipython3",
            "version": "3.10.9"
        },
        "orig_nbformat": 4
    },
    "nbformat": 4,
    "nbformat_minor": 2
}
