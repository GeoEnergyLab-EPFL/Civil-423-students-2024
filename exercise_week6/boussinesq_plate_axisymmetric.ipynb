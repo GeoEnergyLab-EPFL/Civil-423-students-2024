{
 "cells": [
  {
   "cell_type": "markdown",
   "metadata": {},
   "source": [
    "### Exercice 6. Boussinesq Problem\n",
    "\n",
    "The goal of this exercise is to use our developed poro-elasticity code to solve the problem of the loading of a foundation, respectively the Boussinesq problem of an axisymmetric load."
   ]
  },
  {
   "cell_type": "code",
   "execution_count": 1,
   "metadata": {},
   "outputs": [],
   "source": [
    "# importing the necessary python modules\n",
    "# numpy and matplotlib are popular packages for scientific computing and plotting\n",
    "import numpy as np\n",
    "import matplotlib.pyplot as plt\n",
    "import pygmsh\n",
    "\n",
    "# interactive python (iPython) magic to instruct jupyter how to show the plots with respect to the code cells\n",
    "%matplotlib inline\n",
    "\n",
    "# various plotting parameters\n",
    "plt.rcParams['text.usetex'] = False\n",
    "plt.rcParams['axes.labelsize'] = 12\n",
    "\n",
    "# scipy is an extension for numpy, used extensively in scientific computing\n",
    "import scipy as sp\n",
    "\n",
    "# The following lines are though to import the source functions\n",
    "import sys\n",
    "sys.path.append('../src')\n",
    "\n",
    "# And we import the necessary tools from our source folder.\n",
    "from MesherWrapper import Mesh\n",
    "from MeshUtils import MeshUtils\n",
    "import MatrixAssembly\n",
    "import PoroElasticProperties as prop"
   ]
  },
  {
   "attachments": {},
   "cell_type": "markdown",
   "metadata": {},
   "source": [
    "### The Boussinesq problem. Solution of axissymmetric elasticity\n",
    "\n",
    "Boussinesq has derived an analytical solution for the stress in a homogeneous medium after axisymmetric loading, interpretable as the loading from a circular foundation of radius $R_f$. We will focus on numerically solving the undrained response.\n",
    "\n",
    "### 1. Defining the mesh\n",
    "\n",
    "\n",
    "We will begin by defining the mesh. We first create a mesh refinement at the point of the singularity, the plate's tip. To do so, we will define a custom function for the element size, making use of $\\tanh(x)$."
   ]
  },
  {
   "cell_type": "code",
   "execution_count": 2,
   "metadata": {},
   "outputs": [
    {
     "data": {
      "text/plain": [
       "Text(0, 0.5, 'Mesh size')"
      ]
     },
     "execution_count": 2,
     "metadata": {},
     "output_type": "execute_result"
    },
    {
     "data": {
      "image/png": "[encoded data removed]",
      "text/plain": [
       "<Figure size 640x480 with 1 Axes>"
      ]
     },
     "metadata": {},
     "output_type": "display_data"
    }
   ],
   "source": [
    "# Defining a hyperbolic tangent function for the mesh-size near the plate\n",
    "def tanh(dist, max_dist, sharpness, l0, l1, eps=1e-10):\n",
    "    return  (l1 - l0) * 0.5 * (np.tanh((dist - max_dist)/sharpness) + eps + 1) + l0\n",
    "    \n",
    "# Defining the parameters of the mesh\n",
    "max_dist = 20       # gives the central point of the hyperbolic tangent\n",
    "sharpness = 10      # gives the inflection points of the hyperbolic tangent\n",
    "min_lc = 0.001      # defines the fines mesh-size (closest to the plate)\n",
    "max_lc = 5.0        # defines the coarsest mesh-size (farthest away)\n",
    "\n",
    "# Visualize the evolution of the mesh size up to the maximum distance.\n",
    "d = np.linspace(0, 2 * max_dist, 100)\n",
    "plt.plot(d, tanh(d, max_dist, sharpness, min_lc, max_lc))\n",
    "plt.axvline(max_dist, c='k', ls='dashed')\n",
    "plt.xlabel('Distance from point (m)')\n",
    "plt.ylabel('Mesh size')"
   ]
  },
  {
   "cell_type": "markdown",
   "metadata": {},
   "source": [
    "The previously defined function is now used to refine the mesh in a axisymmetric manner around the plate."
   ]
  },
  {
   "cell_type": "code",
   "execution_count": null,
   "metadata": {},
   "outputs": [],
   "source": [
    "\n",
    "# We define the mesh\n",
    "R_f = 1                 # The radius of the plate\n",
    "R = 30                  # The radius of the total domain solved\n",
    "depth = R_f * R         # The depth (along z) of the domain solved\n",
    "\n",
    "# As always, we define a geometry for the mesh\n",
    "with pygmsh.geo.Geometry() as geom:\n",
    "    # We define a box of the domain within which we solve the problem\n",
    "    # Complete below\n",
    "    # box = geom.add_polygon()\n",
    "\n",
    "    # We set a callback on the mesh size, this function allows us to refine the fracture\n",
    "    geom.set_mesh_size_callback(lambda dim, tag, x, y, z, lc : tanh(np.sqrt((x - R_f)**2 + y**2), max_dist, sharpness, min_lc, max_lc),\n",
    "                                ignore_other_mesh_sizes=False)\n",
    "\n",
    "    # And we generate the mesh\n",
    "    out = geom.generate_mesh()\n",
    "\n",
    "# We can now generate our mesh. Remember that the problem is axisymmetric\n",
    "mesh3 = Mesh(out, simultype='axis')\n",
    "\n",
    "# We can use the mesh.plot() function to easily show it\n",
    "mesh3.plot()\n",
    "plt.xlabel('x [m]')\n",
    "plt.ylabel('y [m]')\n",
    "\n",
    "# We also show a zoom on the upper left corner (at the plate)\n",
    "mesh3.plot()\n",
    "plt.xlim(-0.5, 3)\n",
    "plt.ylim(-3, 0.5)\n",
    "plt.xlabel('x [m]')\n",
    "plt.ylabel('y [m]')\n",
    "\n",
    "# And we now switch to also have a quadratic mesh\n",
    "mesh6 = MeshUtils.tri3_to_tri6(mesh3)\n",
    "print(f'The total number of nodes in the constant mesh is {mesh3.number_nodes}')\n",
    "print(f'The total number of nodes in the linear mesh is {mesh6.number_nodes}')\n"
   ]
  },
  {
   "cell_type": "markdown",
   "metadata": {},
   "source": [
    "### 2. Boundary conditions\n",
    "\n",
    "We need to set the boundary conditions which are a mix of surface tractions (where we have the plate) and displacement conditions.\n",
    "\n",
    "#### Displacement conditions\n",
    "The displacement boundary conditions are such that we restrict movement on the lower and the right boundary (far-field), as well as the horizontal displacement on the axis of symmetry (left boundary), where the latest is verified automatically (derive on your own why this is the case).\n"
   ]
  },
  {
   "cell_type": "code",
   "execution_count": null,
   "metadata": {},
   "outputs": [],
   "source": [
    "# Note that in the following we can perform all the steps\n",
    "# either for the linear mesh (mesh3) or the quadratic mesh\n",
    "# (mesh6) without having to change anything on the code.\n",
    "\n",
    "# We choose the mesh to use\n",
    "\n",
    "# Complete below:\n",
    "# mesh = \n",
    "\n",
    "# We define the boundaries of the box\n",
    "\n",
    "# Complete below:\n",
    "# bottom = \n",
    "# left = \n",
    "# right = \n",
    "# top = \n",
    "\n",
    "# We get the fixed nodes and the corresponding degrees of freedom (DOF)\n",
    "\n",
    "# Complete below:\n",
    "# fixed_nodes = \n",
    "# fixed_dof = \n",
    "\n",
    "# We visualize our choices of boundaries\n",
    "fig, ax = mesh.plot()\n",
    "ax.scatter(*mesh.nodes[fixed_nodes].T, zorder=10)\n",
    "plt.xlabel('x [m]')\n",
    "plt.ylabel('y [m]')"
   ]
  },
  {
   "cell_type": "markdown",
   "metadata": {},
   "source": [
    "#### Surface tractions\n",
    "The surface traction, cannot simply be distributed onto the nodes but needs to be lumped correctly. This is done through a line integral on the edge where the force is applied, which naturally depends on the order of the elements's shape function."
   ]
  },
  {
   "cell_type": "code",
   "execution_count": null,
   "metadata": {},
   "outputs": [],
   "source": [
    "# We define the boundary on which we will have tractions\n",
    "# Complete below:\n",
    "# traction_boundary = \n",
    "\n",
    "# We visualize the traction boundary\n",
    "mesh.plot()\n",
    "plt.scatter(*mesh.nodes[traction_boundary].T)\n",
    "plt.xlim(-0.1, 5)\n",
    "plt.ylim(-5, 0.1)\n",
    "plt.xlabel('x [m]')\n",
    "plt.ylabel('y [m]')\n",
    "\n",
    "# And we calculate the nodal forces arising from the surface load\n",
    "\n",
    "# Complete below\n",
    "# area =                      # The area of the round plate\n",
    "# ts =                        # The traction vector with its x, and y coordinate.\n",
    "\n",
    "# Note that the traction vector is always defined in the \"base\" coordinate system.\n",
    "# The \"base\" coordinate system of the code is x positive towards the right and y\n",
    "# positive upwards\n",
    "\n",
    "# We can now use the function assemble_tractions_over_line() to get the nodal\n",
    "# force vector. Familiarize yourself with its API and use it correctly.\n",
    "\n",
    "# Complete below\n",
    "# fs = MatrixAssembly.assemble_tractions_over_line(xxxxxx)\n",
    "\n",
    "# For ease of plotting, we arrange the nodel forces as a traction\n",
    "# vector with two colons for x and y components.\n",
    "\n",
    "# Complete below\n",
    "# sigma =\n",
    "\n",
    "# And visualize the x-component\n",
    "fig, ax, cb = mesh.plot(sigma[0])\n",
    "ax.set_xlim(-0.1, 5)\n",
    "ax.set_ylim(-5, 0.1)\n",
    "ax.set_xlabel('x [m]')\n",
    "ax.set_ylabel('y [m]')\n",
    "cb.ax.set_title('T_r (Pa)')\n",
    "\n",
    "# And visualize the y-component\n",
    "fig, ax, cb = mesh.plot(sigma[1])\n",
    "ax.set_xlim(-0.1, 2)\n",
    "ax.set_ylim(-2, 0.1)\n",
    "ax.set_xlabel('x [m]')\n",
    "ax.set_ylabel('y [m]')\n",
    "cb.ax.set_title('T_z (Pa)')\n",
    "\n",
    "# the relative difference between the analytiacl applied traction and the numerical should be close to zero\n",
    "difference = 100 * (fs.sum() - ts[1] * area)/(ts[1] * area)\n",
    "print(f'relative difference is {difference:.2f} %')\n"
   ]
  },
  {
   "cell_type": "markdown",
   "metadata": {},
   "source": [
    "### 3. System assembly and solution of the system\n",
    "\n",
    "We now want to assemble the matrices and solve the system. For now we are only solving the elastic system. You are asked to assemble the matrices and solve the problem."
   ]
  },
  {
   "cell_type": "code",
   "execution_count": null,
   "metadata": {},
   "outputs": [],
   "source": [
    "# We define first the elastic parameters of the problem\n",
    "\n",
    "# Complete below\n",
    "# E =\n",
    "# nu =\n",
    "\n",
    "\n",
    "# We can now asseble the stiffnes matrix. The system is equivalent to the assembly\n",
    "# of the conducitvity and mass matrix. Only the components change\n",
    "# Note that you'll have to implement some parts of the following function\n",
    "K = MatrixAssembly.assemble_stiffness_matrix(mesh, E, nu)\n",
    "\n",
    "# Solution of the system\n",
    "# We define first the known displacements\n",
    "\n",
    "# Complete below\n",
    "# u_set = \n",
    "\n",
    "# We can no assemble the system of equations to solve (RHS and LHS)\n",
    "\n",
    "# Complete below\n",
    "# eq_to_solve = \n",
    "# f = \n",
    "\n",
    "# After solving the system, we can get back the displacements everywhere and \n",
    "# glue the solution back together\n",
    "\n",
    "# Complete below\n",
    "# u_aux =                                                   # Solution of unkown components\n",
    "# u_res =                                                   # Complete solution initiation\n",
    "# u_res[ ] =                                                # Combining the two"
   ]
  },
  {
   "cell_type": "markdown",
   "metadata": {},
   "source": [
    "The next section is solely to visualize the results"
   ]
  },
  {
   "cell_type": "code",
   "execution_count": null,
   "metadata": {},
   "outputs": [],
   "source": [
    "# To easier visualization the solution to the problem we create a reshaped vector of\n",
    "# displacements.\n",
    "\n",
    "# Complete below\n",
    "# udisp =\n",
    "\n",
    "# Finally, we can visualize our results and show the magnitude of deformation\n",
    "fig, ax, cb = mesh.plot(np.linalg.norm(udisp, axis=0), c='none',)\n",
    "ax.set_xlim(-0.5, 1)\n",
    "ax.set_ylim(-1, 0.5)\n",
    "ax.set_xlabel('x [m]')\n",
    "ax.set_ylabel('y [m]')\n",
    "cb.ax.set_title('|u| [m]')\n",
    "\n",
    "# We further show the displacements in r\n",
    "fig, ax, cb = mesh.plot(u_res[0:-1:2], c='none',)\n",
    "ax.set_xlim(-0.5, 1)\n",
    "ax.set_ylim(-1, 0.5)\n",
    "ax.set_xlabel('x [m]')\n",
    "ax.set_ylabel('y [m]')\n",
    "cb.ax.set_title('u_r [m]')\n",
    "\n",
    "# We further show the settlements in z\n",
    "fig, ax, cb = mesh.plot(u_res[1::2], c='none',)\n",
    "ax.set_xlim(-0.5, 1)\n",
    "ax.set_ylim(-1, 0.5)\n",
    "ax.set_xlabel('x [m]')\n",
    "ax.set_ylabel('y [m]')\n",
    "cb.ax.set_title('u_z [m]')"
   ]
  },
  {
   "cell_type": "markdown",
   "metadata": {},
   "source": [
    "#### 3.1 Comparison to analytical solution for point force\n",
    "\n",
    "We now want to compare our results to the solution of a point force. We notably compare the radial and vertical displacements along $r$ for $z=0$. The analytical solutions derived by Boussinesq are given as:\n",
    "\n",
    "$u_{r}=P\\frac{1+\\nu}{2\\pi E}\\frac{1}{R}\\left(r^{2}\\vert z\\vert R^{3}-(1-2\\nu)*(1-\\frac{\\vert z\\vert}{R})\\right)$\n",
    "\n",
    "$u_{z}=P\\frac{1+\\nu}{2\\pi E}\\frac{1}{R}\\left(2(1-\\nu)+\\frac{z^{2}}{R^{2}}\\right)$"
   ]
  },
  {
   "cell_type": "code",
   "execution_count": 4,
   "metadata": {},
   "outputs": [],
   "source": [
    "# We first define the functions giving the analytical solution for a point load\n",
    "def point_load_solution_boussinesq(P, E, nu, coord):\n",
    "    # We get the distance to the Load\n",
    "    R = np.linalg.norm(coord, axis=1)\n",
    "\n",
    "    # We get the radial displacement\n",
    "    u_r = P * (1 + nu) / (2 * np.pi * E) * 1 / R * (coord[:, 0] ** 2 * abs(coord[:, 1]) * R ** 3 - (1 - 2 * nu) * (1 - abs(coord[:, 1]) / R))\n",
    "    # We get the vertical displacement\n",
    "    u_z = - P * (1 + nu) / (2 * np.pi * E) * 1 / R * (2 * (1 - nu) + coord[:, 1] ** 2 / R ** 2)\n",
    "    # Note that the minus stems from the definition of the coordinate system.\n",
    "\n",
    "    # we return them as a matrix with two columns\n",
    "    return np.vstack((u_r, u_z)).T"
   ]
  },
  {
   "cell_type": "markdown",
   "metadata": {},
   "source": [
    "It is now possible to compare this analytical solution with our numerical one. Here you can notably investigate the effect of mesh refinement."
   ]
  },
  {
   "cell_type": "code",
   "execution_count": null,
   "metadata": {},
   "outputs": [],
   "source": [
    "# lets first order the elements on top for plotting regions\n",
    "indices = np.argsort(mesh.nodes[top, 0])\n",
    "top = top[indices]\n",
    "\n",
    "# We extract the displacements along the top surface and the coordinates of the corresponding nodes\n",
    "\n",
    "# Complete below\n",
    "# u_top =\n",
    "# coords_top =\n",
    "\n",
    "# Now we calculate the the analytical solution there\n",
    "\n",
    "# Complete below\n",
    "# P = \n",
    "# u_top_analytical = point_load_solution_boussinesq(xxxxxx)\n",
    "\n",
    "# We plot the lines to compare the analytical and theoretical solution on the top surface.\n",
    "plt.figure(1)\n",
    "plt.plot(coords_top[:, 0], u_top_analytical[:, 0], 'r--')\n",
    "plt.scatter(coords_top[:, 0], u_top[:, 0])\n",
    "plt.xlabel('Distance r [m]')\n",
    "plt.ylabel('Radial displacement along surface z = 0 [m]')\n",
    "\n",
    "# We plot the lines to compare the analytical and theoretical solution on the top surface.\n",
    "plt.figure(2)\n",
    "plt.plot(coords_top[:, 0], u_top_analytical[:, 1], 'r--')\n",
    "plt.scatter(coords_top[:, 0], u_top[:, 1])\n",
    "plt.xlabel('Distance r [m]')\n",
    "plt.ylabel('Settlment along surface z = 0 [m]')\n",
    "\n",
    "# It is of course more interesting to see the error. We compare notably the error once we are outside of\n",
    "# the foundation (e.g., r >=1), note that we scale the error with its value at the edge of the foundation.\n",
    "top_out_of_found = np.argwhere(mesh.nodes[top, 0] > R_f)[:, 0]\n",
    "abs_scaled_error = abs((u_top_analytical - u_top) / point_load_solution_boussinesq(P, E, nu, np.asarray([[R_f, 0]])))\n",
    "\n",
    "# We plot the error to compare the analytical and theoretical solution on the top surface.\n",
    "plt.figure(3)\n",
    "plt.plot(coords_top[top_out_of_found, 0], abs_scaled_error[top_out_of_found, 0], 'r--')\n",
    "plt.yscale('log')\n",
    "plt.xlabel('Distance r [m]')\n",
    "plt.ylabel('Scaled aboslute error on radial displacement')\n",
    "\n",
    "# We plot the error to compare the analytical and theoretical solution on the top surface.\n",
    "plt.figure(4)\n",
    "plt.plot(coords_top[top_out_of_found, 0], abs_scaled_error[top_out_of_found, 1], 'r--')\n",
    "plt.yscale('log')\n",
    "plt.xlabel('Distance r [m]')\n",
    "plt.ylabel('Scaled absolute error on settlement')\n"
   ]
  },
  {
   "cell_type": "markdown",
   "metadata": {},
   "source": [
    "#### 3.2 Comparison to the solution for a circular footing\n",
    "\n",
    "The previous comparison has been done to a point force which is not what we have here. In a second step, we now compare our solutions to the ones of a circular footing, which represents the configuration we actually have here.\n",
    "\n",
    "$u_{z}(r=0,z=0)=q\\times R_{f}\\frac{2(1-\\nu^{2})}{E}$\n",
    "\n",
    "$u_{z}(r=R_{f},z=0)=q\\times R_{f}\\frac{4(1-\\nu^{2})}{\\pi E}$"
   ]
  },
  {
   "cell_type": "code",
   "execution_count": null,
   "metadata": {},
   "outputs": [],
   "source": [
    "# We first calculate the analytical values\n",
    "\n",
    "# Complete below\n",
    "# uz_analytical_r0z0 =                                                  # settlement at r = 0 and z = 0\n",
    "# uz_analytical_rRfz0 =                                                 # settlement at r = R_f and z = 0\n",
    "\n",
    "# We then get the indices\n",
    "\n",
    "# Complete below\n",
    "# ind_r0z0 = \n",
    "# ind_rRfz0 =\n",
    "\n",
    "# Printing settlements and error\n",
    "print(f'The numerical settlement at the center of the foundation is: {u_top[ind_r0z0, 1][0]} [m]')\n",
    "print(f'The theoretical settlement at the center of the foundation is: {uz_analytical_r0z0} [m]')\n",
    "print(f'The absolute scaled error between the analytical and theoretical settlement at the center of the foundation is: {abs((uz_analytical_r0z0-u_top[ind_r0z0, 1][0])/uz_analytical_r0z0)*100} %')\n",
    "\n",
    "# Printing settlements and error\n",
    "print(f'The numerical settlement at the edge of the foundation is: {u_top[ind_rRfz0, 1][0]} [m]')\n",
    "print(f'The theoretical settlement at the edge of the foundation is: {uz_analytical_rRfz0} [m]')\n",
    "print(f'The absolute scaled error between the analytical and theoretical settlement at the edge of the foundation is: {abs((uz_analytical_rRfz0-u_top[ind_rRfz0, 1][0])/uz_analytical_r0z0)*100} %')"
   ]
  },
  {
   "cell_type": "markdown",
   "metadata": {},
   "source": [
    "### 4. Stress Calculations\n",
    "\n",
    "We want to compute the stress only from the given solution of displacements $u$. As gradients of displacements are computed at the integration points, the stresses are also defined there. This makes the plotting task complicated, as stresses become discontinuous at the elemental boundaries. In order to improve that, we want to have stresses defined at the nodes, which would make stress-fields continuous and easily plottable. Defining streses at the nodes requires projection operation. We will use a `project_stress` function that computes the fluxes at the integration points and then projects them at the nodes.\n",
    "\n",
    "To make the following cell work, you have to code up the function `project_stress` in MatrixAssembly.py."
   ]
  },
  {
   "cell_type": "code",
   "execution_count": null,
   "metadata": {},
   "outputs": [],
   "source": [
    "# We calculate the different comoponents of the stresses\n",
    "sigma_rr, sigma_zz, tau_rz, sigma_tt = MatrixAssembly.project_stress(mesh, E, nu, u_res)"
   ]
  },
  {
   "cell_type": "markdown",
   "metadata": {},
   "source": [
    "As a verification we will compare this results to the analytical solution along z for $r=0$ (Boussinesq, 1878).\n",
    "\n",
    "$\\sigma_{zz}\\left(z\\right)=q\\left(1-\\left(\\frac{1}{1+\\left(\\frac{R_{f}}{z}\\right)^{2}}\\right)^{3/2}\\right)$"
   ]
  },
  {
   "cell_type": "code",
   "execution_count": null,
   "metadata": {},
   "outputs": [],
   "source": [
    "# We first define the function giving the analytical solution\n",
    "\n",
    "# Complete below\n",
    "# def point_load_solution_boussinesq_stresses(q, R_f, z):"
   ]
  },
  {
   "cell_type": "markdown",
   "metadata": {},
   "source": [
    "Finally, we compare this results to our numerical solution"
   ]
  },
  {
   "cell_type": "code",
   "execution_count": null,
   "metadata": {},
   "outputs": [],
   "source": [
    "# lets first order the elements on top for plotting regions\n",
    "indices = np.argsort(mesh.nodes[left, 1])\n",
    "left = left[indices]\n",
    "\n",
    "# We get the analytical stresses centrally below the foundation\n",
    "sigma_zz_analytical = point_load_solution_boussinesq_stresses(ts[-1], R_f, mesh.nodes[left, 1])\n",
    "\n",
    "# We plot the lines to compare the analytical and theoretical solution on the top surface.\n",
    "plt.figure(1)\n",
    "plt.plot(sigma_zz_analytical, mesh.nodes[left, 1], 'r--')\n",
    "plt.scatter(sigma_zz[left], mesh.nodes[left, 1])\n",
    "plt.xlabel('sigma_zz [Pa]')\n",
    "plt.ylabel('Depth below foundation centre [m]')\n",
    "\n",
    "# It is of course more interesting to see the error.\n",
    "# we scale by the analytical solution at a depth of z = R_f\n",
    "scaled_absolute_error = abs((sigma_zz_analytical - sigma_zz[left]) / point_load_solution_boussinesq_stresses(ts[-1], R_f, R_f))\n",
    "\n",
    "# We plot the lines to compare the analytical and theoretical solution on the top surface.\n",
    "plt.figure(2)\n",
    "plt.scatter(scaled_absolute_error, mesh.nodes[left, 1])\n",
    "plt.xscale('log')\n",
    "plt.xlabel('scaled absolute error onsigma_zz')\n",
    "plt.ylabel('Depth below foundation centre [m]')"
   ]
  }
 ],
 "metadata": {
  "kernelspec": {
   "display_name": "base",
   "language": "python",
   "name": "python3"
  },
  "language_info": {
   "codemirror_mode": {
    "name": "ipython",
    "version": 3
   },
   "file_extension": ".py",
   "mimetype": "text/x-python",
   "name": "python",
   "nbconvert_exporter": "python",
   "pygments_lexer": "ipython3",
   "version": "3.9.18"
  },
  "orig_nbformat": 4
 },
 "nbformat": 4,
 "nbformat_minor": 2
}
